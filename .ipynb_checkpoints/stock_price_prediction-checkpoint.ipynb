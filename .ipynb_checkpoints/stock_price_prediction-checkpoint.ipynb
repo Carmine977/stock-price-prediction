{
 "cells": [
  {
   "cell_type": "markdown",
   "metadata": {},
   "source": [
    "## Stock Price Prediction on Tweets Sentiment "
   ]
  },
  {
   "cell_type": "code",
   "execution_count": 1,
   "metadata": {},
   "outputs": [],
   "source": [
    "import pandas as pd\n",
    "from textblob import TextBlob\n",
    "import fix_yahoo_finance as yf\n",
    "import matplotlib.pyplot as plt\n",
    "from sklearn.preprocessing import StandardScaler \n",
    "%matplotlib inline"
   ]
  },
  {
   "cell_type": "code",
   "execution_count": 2,
   "metadata": {},
   "outputs": [],
   "source": [
    "# We will use TextBlob library to assess the sentiment of twitters\n",
    "def stringToSentiment(text):\n",
    "    return TextBlob(text).sentiment.polarity"
   ]
  },
  {
   "cell_type": "code",
   "execution_count": 3,
   "metadata": {},
   "outputs": [
    {
     "name": "stdout",
     "output_type": "stream",
     "text": [
      "(52512, 3)\n"
     ]
    },
    {
     "data": {
      "text/html": [
       "<div>\n",
       "<style scoped>\n",
       "    .dataframe tbody tr th:only-of-type {\n",
       "        vertical-align: middle;\n",
       "    }\n",
       "\n",
       "    .dataframe tbody tr th {\n",
       "        vertical-align: top;\n",
       "    }\n",
       "\n",
       "    .dataframe thead th {\n",
       "        text-align: right;\n",
       "    }\n",
       "</style>\n",
       "<table border=\"1\" class=\"dataframe\">\n",
       "  <thead>\n",
       "    <tr style=\"text-align: right;\">\n",
       "      <th></th>\n",
       "      <th>Text</th>\n",
       "      <th>Status</th>\n",
       "      <th>Retweet</th>\n",
       "    </tr>\n",
       "    <tr>\n",
       "      <th>Date</th>\n",
       "      <th></th>\n",
       "      <th></th>\n",
       "      <th></th>\n",
       "    </tr>\n",
       "  </thead>\n",
       "  <tbody>\n",
       "    <tr>\n",
       "      <th>2015-05-24 03:46:08</th>\n",
       "      <td>RT @j_o_h_n_danger: $TWTR now top holding for ...</td>\n",
       "      <td>602319644234395648</td>\n",
       "      <td>6.022899e+17</td>\n",
       "    </tr>\n",
       "    <tr>\n",
       "      <th>2015-05-24 04:17:42</th>\n",
       "      <td>RT diggingplatinum RT WWalkerWW: iOS 9 vs. And...</td>\n",
       "      <td>602327586983796737</td>\n",
       "      <td>NaN</td>\n",
       "    </tr>\n",
       "    <tr>\n",
       "      <th>2015-05-24 04:13:22</th>\n",
       "      <td>RT bosocial RT insidermonkey RT j_o_h_n_danger...</td>\n",
       "      <td>602326499534966784</td>\n",
       "      <td>NaN</td>\n",
       "    </tr>\n",
       "    <tr>\n",
       "      <th>2015-05-24 04:08:34</th>\n",
       "      <td>RT @WWalkerWW: iOS 9 vs. Android M – The New F...</td>\n",
       "      <td>602325288740114432</td>\n",
       "      <td>6.023104e+17</td>\n",
       "    </tr>\n",
       "    <tr>\n",
       "      <th>2015-05-24 04:04:42</th>\n",
       "      <td>RT @seeitmarket: Apple Chart Update: Big Test ...</td>\n",
       "      <td>602324318903771136</td>\n",
       "      <td>6.023215e+17</td>\n",
       "    </tr>\n",
       "  </tbody>\n",
       "</table>\n",
       "</div>"
      ],
      "text/plain": [
       "                                                                  Text  \\\n",
       "Date                                                                     \n",
       "2015-05-24 03:46:08  RT @j_o_h_n_danger: $TWTR now top holding for ...   \n",
       "2015-05-24 04:17:42  RT diggingplatinum RT WWalkerWW: iOS 9 vs. And...   \n",
       "2015-05-24 04:13:22  RT bosocial RT insidermonkey RT j_o_h_n_danger...   \n",
       "2015-05-24 04:08:34  RT @WWalkerWW: iOS 9 vs. Android M – The New F...   \n",
       "2015-05-24 04:04:42  RT @seeitmarket: Apple Chart Update: Big Test ...   \n",
       "\n",
       "                                 Status       Retweet  \n",
       "Date                                                   \n",
       "2015-05-24 03:46:08  602319644234395648  6.022899e+17  \n",
       "2015-05-24 04:17:42  602327586983796737           NaN  \n",
       "2015-05-24 04:13:22  602326499534966784           NaN  \n",
       "2015-05-24 04:08:34  602325288740114432  6.023104e+17  \n",
       "2015-05-24 04:04:42  602324318903771136  6.023215e+17  "
      ]
     },
     "execution_count": 3,
     "metadata": {},
     "output_type": "execute_result"
    }
   ],
   "source": [
    "# Read tweets of AAPL stocks\n",
    "tweets = pd.read_csv('so_many_tweets.csv', index_col=['Date'], parse_dates=True)\n",
    "print(tweets.shape)\n",
    "tweets.head()"
   ]
  },
  {
   "cell_type": "code",
   "execution_count": 4,
   "metadata": {},
   "outputs": [
    {
     "data": {
      "text/html": [
       "<div>\n",
       "<style scoped>\n",
       "    .dataframe tbody tr th:only-of-type {\n",
       "        vertical-align: middle;\n",
       "    }\n",
       "\n",
       "    .dataframe tbody tr th {\n",
       "        vertical-align: top;\n",
       "    }\n",
       "\n",
       "    .dataframe thead th {\n",
       "        text-align: right;\n",
       "    }\n",
       "</style>\n",
       "<table border=\"1\" class=\"dataframe\">\n",
       "  <thead>\n",
       "    <tr style=\"text-align: right;\">\n",
       "      <th></th>\n",
       "      <th>Text</th>\n",
       "      <th>Status</th>\n",
       "      <th>Retweet</th>\n",
       "      <th>sentiment</th>\n",
       "    </tr>\n",
       "    <tr>\n",
       "      <th>Date</th>\n",
       "      <th></th>\n",
       "      <th></th>\n",
       "      <th></th>\n",
       "      <th></th>\n",
       "    </tr>\n",
       "  </thead>\n",
       "  <tbody>\n",
       "    <tr>\n",
       "      <th>2015-05-24 03:46:08</th>\n",
       "      <td>RT @j_o_h_n_danger: $TWTR now top holding for ...</td>\n",
       "      <td>602319644234395648</td>\n",
       "      <td>6.022899e+17</td>\n",
       "      <td>0.500000</td>\n",
       "    </tr>\n",
       "    <tr>\n",
       "      <th>2015-05-24 04:17:42</th>\n",
       "      <td>RT diggingplatinum RT WWalkerWW: iOS 9 vs. And...</td>\n",
       "      <td>602327586983796737</td>\n",
       "      <td>NaN</td>\n",
       "      <td>0.136364</td>\n",
       "    </tr>\n",
       "    <tr>\n",
       "      <th>2015-05-24 04:13:22</th>\n",
       "      <td>RT bosocial RT insidermonkey RT j_o_h_n_danger...</td>\n",
       "      <td>602326499534966784</td>\n",
       "      <td>NaN</td>\n",
       "      <td>0.500000</td>\n",
       "    </tr>\n",
       "    <tr>\n",
       "      <th>2015-05-24 04:08:34</th>\n",
       "      <td>RT @WWalkerWW: iOS 9 vs. Android M – The New F...</td>\n",
       "      <td>602325288740114432</td>\n",
       "      <td>6.023104e+17</td>\n",
       "      <td>0.136364</td>\n",
       "    </tr>\n",
       "    <tr>\n",
       "      <th>2015-05-24 04:04:42</th>\n",
       "      <td>RT @seeitmarket: Apple Chart Update: Big Test ...</td>\n",
       "      <td>602324318903771136</td>\n",
       "      <td>6.023215e+17</td>\n",
       "      <td>0.000000</td>\n",
       "    </tr>\n",
       "  </tbody>\n",
       "</table>\n",
       "</div>"
      ],
      "text/plain": [
       "                                                                  Text  \\\n",
       "Date                                                                     \n",
       "2015-05-24 03:46:08  RT @j_o_h_n_danger: $TWTR now top holding for ...   \n",
       "2015-05-24 04:17:42  RT diggingplatinum RT WWalkerWW: iOS 9 vs. And...   \n",
       "2015-05-24 04:13:22  RT bosocial RT insidermonkey RT j_o_h_n_danger...   \n",
       "2015-05-24 04:08:34  RT @WWalkerWW: iOS 9 vs. Android M – The New F...   \n",
       "2015-05-24 04:04:42  RT @seeitmarket: Apple Chart Update: Big Test ...   \n",
       "\n",
       "                                 Status       Retweet  sentiment  \n",
       "Date                                                              \n",
       "2015-05-24 03:46:08  602319644234395648  6.022899e+17   0.500000  \n",
       "2015-05-24 04:17:42  602327586983796737           NaN   0.136364  \n",
       "2015-05-24 04:13:22  602326499534966784           NaN   0.500000  \n",
       "2015-05-24 04:08:34  602325288740114432  6.023104e+17   0.136364  \n",
       "2015-05-24 04:04:42  602324318903771136  6.023215e+17   0.000000  "
      ]
     },
     "execution_count": 4,
     "metadata": {},
     "output_type": "execute_result"
    }
   ],
   "source": [
    "# Create a new column with sentiments from Text\n",
    "# -1: negative, 0: neutral, 1: positive\n",
    "tweets['sentiment'] = tweets['Text'].apply(stringToSentiment)\n",
    "tweets.head()"
   ]
  },
  {
   "cell_type": "code",
   "execution_count": 5,
   "metadata": {},
   "outputs": [
    {
     "name": "stdout",
     "output_type": "stream",
     "text": [
      "(23, 1)\n"
     ]
    },
    {
     "data": {
      "text/html": [
       "<div>\n",
       "<style scoped>\n",
       "    .dataframe tbody tr th:only-of-type {\n",
       "        vertical-align: middle;\n",
       "    }\n",
       "\n",
       "    .dataframe tbody tr th {\n",
       "        vertical-align: top;\n",
       "    }\n",
       "\n",
       "    .dataframe thead th {\n",
       "        text-align: right;\n",
       "    }\n",
       "</style>\n",
       "<table border=\"1\" class=\"dataframe\">\n",
       "  <thead>\n",
       "    <tr style=\"text-align: right;\">\n",
       "      <th></th>\n",
       "      <th>sentiment</th>\n",
       "    </tr>\n",
       "    <tr>\n",
       "      <th>Date</th>\n",
       "      <th></th>\n",
       "    </tr>\n",
       "  </thead>\n",
       "  <tbody>\n",
       "    <tr>\n",
       "      <th>2015-05-02</th>\n",
       "      <td>0.083031</td>\n",
       "    </tr>\n",
       "    <tr>\n",
       "      <th>2015-05-03</th>\n",
       "      <td>0.107045</td>\n",
       "    </tr>\n",
       "    <tr>\n",
       "      <th>2015-05-04</th>\n",
       "      <td>0.084062</td>\n",
       "    </tr>\n",
       "    <tr>\n",
       "      <th>2015-05-05</th>\n",
       "      <td>0.063895</td>\n",
       "    </tr>\n",
       "    <tr>\n",
       "      <th>2015-05-06</th>\n",
       "      <td>0.067004</td>\n",
       "    </tr>\n",
       "  </tbody>\n",
       "</table>\n",
       "</div>"
      ],
      "text/plain": [
       "            sentiment\n",
       "Date                 \n",
       "2015-05-02   0.083031\n",
       "2015-05-03   0.107045\n",
       "2015-05-04   0.084062\n",
       "2015-05-05   0.063895\n",
       "2015-05-06   0.067004"
      ]
     },
     "execution_count": 5,
     "metadata": {},
     "output_type": "execute_result"
    }
   ],
   "source": [
    "# Aggregate sentiments on daily base with mean \n",
    "daily_tweets = tweets[['sentiment']].resample('D').mean()\n",
    "print(daily_tweets.shape)\n",
    "daily_tweets.head()"
   ]
  },
  {
   "cell_type": "code",
   "execution_count": 6,
   "metadata": {},
   "outputs": [
    {
     "data": {
      "image/png": "[encoded data removed]",
      "text/plain": [
       "<Figure size 432x288 with 1 Axes>"
      ]
     },
     "metadata": {
      "needs_background": "light"
     },
     "output_type": "display_data"
    }
   ],
   "source": [
    "plt.figure()\n",
    "daily_tweets['sentiment'].plot(kind='line')\n",
    "plt.title('Daily average sentiment')\n",
    "plt.show()"
   ]
  },
  {
   "cell_type": "markdown",
   "metadata": {},
   "source": [
    "**Retrieve AAPL data from Yahoo Finance API**"
   ]
  },
  {
   "cell_type": "code",
   "execution_count": 7,
   "metadata": {},
   "outputs": [
    {
     "name": "stdout",
     "output_type": "stream",
     "text": [
      "[*********************100%***********************]  1 of 1 downloaded\n"
     ]
    },
    {
     "data": {
      "text/html": [
       "<div>\n",
       "<style scoped>\n",
       "    .dataframe tbody tr th:only-of-type {\n",
       "        vertical-align: middle;\n",
       "    }\n",
       "\n",
       "    .dataframe tbody tr th {\n",
       "        vertical-align: top;\n",
       "    }\n",
       "\n",
       "    .dataframe thead th {\n",
       "        text-align: right;\n",
       "    }\n",
       "</style>\n",
       "<table border=\"1\" class=\"dataframe\">\n",
       "  <thead>\n",
       "    <tr style=\"text-align: right;\">\n",
       "      <th></th>\n",
       "      <th>Open</th>\n",
       "      <th>High</th>\n",
       "      <th>Low</th>\n",
       "      <th>Close</th>\n",
       "      <th>Adj Close</th>\n",
       "      <th>Volume</th>\n",
       "    </tr>\n",
       "    <tr>\n",
       "      <th>Date</th>\n",
       "      <th></th>\n",
       "      <th></th>\n",
       "      <th></th>\n",
       "      <th></th>\n",
       "      <th></th>\n",
       "      <th></th>\n",
       "    </tr>\n",
       "  </thead>\n",
       "  <tbody>\n",
       "    <tr>\n",
       "      <th>2015-05-01</th>\n",
       "      <td>126.099998</td>\n",
       "      <td>130.130005</td>\n",
       "      <td>125.300003</td>\n",
       "      <td>128.949997</td>\n",
       "      <td>120.736305</td>\n",
       "      <td>58512600</td>\n",
       "    </tr>\n",
       "    <tr>\n",
       "      <th>2015-05-04</th>\n",
       "      <td>129.500000</td>\n",
       "      <td>130.570007</td>\n",
       "      <td>128.259995</td>\n",
       "      <td>128.699997</td>\n",
       "      <td>120.502243</td>\n",
       "      <td>50988300</td>\n",
       "    </tr>\n",
       "    <tr>\n",
       "      <th>2015-05-05</th>\n",
       "      <td>128.149994</td>\n",
       "      <td>128.449997</td>\n",
       "      <td>125.779999</td>\n",
       "      <td>125.800003</td>\n",
       "      <td>117.786964</td>\n",
       "      <td>49271400</td>\n",
       "    </tr>\n",
       "    <tr>\n",
       "      <th>2015-05-06</th>\n",
       "      <td>126.559998</td>\n",
       "      <td>126.750000</td>\n",
       "      <td>123.360001</td>\n",
       "      <td>125.010002</td>\n",
       "      <td>117.047272</td>\n",
       "      <td>72141000</td>\n",
       "    </tr>\n",
       "    <tr>\n",
       "      <th>2015-05-07</th>\n",
       "      <td>124.769997</td>\n",
       "      <td>126.080002</td>\n",
       "      <td>124.019997</td>\n",
       "      <td>125.260002</td>\n",
       "      <td>117.771248</td>\n",
       "      <td>43940900</td>\n",
       "    </tr>\n",
       "  </tbody>\n",
       "</table>\n",
       "</div>"
      ],
      "text/plain": [
       "                  Open        High         Low       Close   Adj Close  \\\n",
       "Date                                                                     \n",
       "2015-05-01  126.099998  130.130005  125.300003  128.949997  120.736305   \n",
       "2015-05-04  129.500000  130.570007  128.259995  128.699997  120.502243   \n",
       "2015-05-05  128.149994  128.449997  125.779999  125.800003  117.786964   \n",
       "2015-05-06  126.559998  126.750000  123.360001  125.010002  117.047272   \n",
       "2015-05-07  124.769997  126.080002  124.019997  125.260002  117.771248   \n",
       "\n",
       "              Volume  \n",
       "Date                  \n",
       "2015-05-01  58512600  \n",
       "2015-05-04  50988300  \n",
       "2015-05-05  49271400  \n",
       "2015-05-06  72141000  \n",
       "2015-05-07  43940900  "
      ]
     },
     "execution_count": 7,
     "metadata": {},
     "output_type": "execute_result"
    }
   ],
   "source": [
    "prices = yf.download(\"AAPL\", start=\"2015-05-02\", end=\"2015-05-25\")\n",
    "#pd.read_csv('AAPL.csv', index_col=['Date'], parse_dates=True)\n",
    "#prices.to_csv('AAPL.csv')\n",
    "prices.head()"
   ]
  },
  {
   "cell_type": "code",
   "execution_count": 8,
   "metadata": {},
   "outputs": [
    {
     "data": {
      "text/html": [
       "<div>\n",
       "<style scoped>\n",
       "    .dataframe tbody tr th:only-of-type {\n",
       "        vertical-align: middle;\n",
       "    }\n",
       "\n",
       "    .dataframe tbody tr th {\n",
       "        vertical-align: top;\n",
       "    }\n",
       "\n",
       "    .dataframe thead th {\n",
       "        text-align: right;\n",
       "    }\n",
       "</style>\n",
       "<table border=\"1\" class=\"dataframe\">\n",
       "  <thead>\n",
       "    <tr style=\"text-align: right;\">\n",
       "      <th></th>\n",
       "      <th>Volume</th>\n",
       "      <th>Close</th>\n",
       "    </tr>\n",
       "  </thead>\n",
       "  <tbody>\n",
       "    <tr>\n",
       "      <th>count</th>\n",
       "      <td>1.600000e+01</td>\n",
       "      <td>16.000000</td>\n",
       "    </tr>\n",
       "    <tr>\n",
       "      <th>mean</th>\n",
       "      <td>4.725022e+07</td>\n",
       "      <td>128.219376</td>\n",
       "    </tr>\n",
       "    <tr>\n",
       "      <th>std</th>\n",
       "      <td>9.351598e+06</td>\n",
       "      <td>2.313692</td>\n",
       "    </tr>\n",
       "    <tr>\n",
       "      <th>min</th>\n",
       "      <td>3.469420e+07</td>\n",
       "      <td>125.010002</td>\n",
       "    </tr>\n",
       "    <tr>\n",
       "      <th>25%</th>\n",
       "      <td>4.145945e+07</td>\n",
       "      <td>125.975002</td>\n",
       "    </tr>\n",
       "    <tr>\n",
       "      <th>50%</th>\n",
       "      <td>4.539975e+07</td>\n",
       "      <td>128.735001</td>\n",
       "    </tr>\n",
       "    <tr>\n",
       "      <th>75%</th>\n",
       "      <td>5.090925e+07</td>\n",
       "      <td>130.062500</td>\n",
       "    </tr>\n",
       "    <tr>\n",
       "      <th>max</th>\n",
       "      <td>7.214100e+07</td>\n",
       "      <td>132.539993</td>\n",
       "    </tr>\n",
       "  </tbody>\n",
       "</table>\n",
       "</div>"
      ],
      "text/plain": [
       "             Volume       Close\n",
       "count  1.600000e+01   16.000000\n",
       "mean   4.725022e+07  128.219376\n",
       "std    9.351598e+06    2.313692\n",
       "min    3.469420e+07  125.010002\n",
       "25%    4.145945e+07  125.975002\n",
       "50%    4.539975e+07  128.735001\n",
       "75%    5.090925e+07  130.062500\n",
       "max    7.214100e+07  132.539993"
      ]
     },
     "execution_count": 8,
     "metadata": {},
     "output_type": "execute_result"
    }
   ],
   "source": [
    "prices[['Volume', 'Close']].describe()"
   ]
  },
  {
   "cell_type": "code",
   "execution_count": 9,
   "metadata": {},
   "outputs": [
    {
     "data": {
      "text/plain": [
       "<matplotlib.axes._subplots.AxesSubplot at 0x1b96d320>"
      ]
     },
     "execution_count": 9,
     "metadata": {},
     "output_type": "execute_result"
    },
    {
     "data": {
      "image/png": "[encoded data removed]",
      "text/plain": [
       "<Figure size 432x288 with 1 Axes>"
      ]
     },
     "metadata": {
      "needs_background": "light"
     },
     "output_type": "display_data"
    }
   ],
   "source": [
    "# Normalize Volume and Close price for visualization on the same scale\n",
    "s = StandardScaler()\n",
    "prices_volumes_scaled = s.fit_transform(prices[['Volume', 'Close']])\n",
    "\n",
    "pd.DataFrame(prices_volumes_scaled, columns=['Volume', 'Close']).plot()"
   ]
  },
  {
   "cell_type": "markdown",
   "metadata": {},
   "source": [
    "Volume and prices have inverse trends."
   ]
  },
  {
   "cell_type": "code",
   "execution_count": 10,
   "metadata": {},
   "outputs": [
    {
     "data": {
      "text/html": [
       "<div>\n",
       "<style scoped>\n",
       "    .dataframe tbody tr th:only-of-type {\n",
       "        vertical-align: middle;\n",
       "    }\n",
       "\n",
       "    .dataframe tbody tr th {\n",
       "        vertical-align: top;\n",
       "    }\n",
       "\n",
       "    .dataframe thead th {\n",
       "        text-align: right;\n",
       "    }\n",
       "</style>\n",
       "<table border=\"1\" class=\"dataframe\">\n",
       "  <thead>\n",
       "    <tr style=\"text-align: right;\">\n",
       "      <th></th>\n",
       "      <th>Close</th>\n",
       "      <th>sentiment</th>\n",
       "    </tr>\n",
       "    <tr>\n",
       "      <th>Date</th>\n",
       "      <th></th>\n",
       "      <th></th>\n",
       "    </tr>\n",
       "  </thead>\n",
       "  <tbody>\n",
       "    <tr>\n",
       "      <th>2015-05-04</th>\n",
       "      <td>128.699997</td>\n",
       "      <td>0.084062</td>\n",
       "    </tr>\n",
       "    <tr>\n",
       "      <th>2015-05-05</th>\n",
       "      <td>125.800003</td>\n",
       "      <td>0.063895</td>\n",
       "    </tr>\n",
       "    <tr>\n",
       "      <th>2015-05-06</th>\n",
       "      <td>125.010002</td>\n",
       "      <td>0.067004</td>\n",
       "    </tr>\n",
       "    <tr>\n",
       "      <th>2015-05-07</th>\n",
       "      <td>125.260002</td>\n",
       "      <td>0.078972</td>\n",
       "    </tr>\n",
       "    <tr>\n",
       "      <th>2015-05-08</th>\n",
       "      <td>127.620003</td>\n",
       "      <td>0.102869</td>\n",
       "    </tr>\n",
       "  </tbody>\n",
       "</table>\n",
       "</div>"
      ],
      "text/plain": [
       "                 Close  sentiment\n",
       "Date                             \n",
       "2015-05-04  128.699997   0.084062\n",
       "2015-05-05  125.800003   0.063895\n",
       "2015-05-06  125.010002   0.067004\n",
       "2015-05-07  125.260002   0.078972\n",
       "2015-05-08  127.620003   0.102869"
      ]
     },
     "execution_count": 10,
     "metadata": {},
     "output_type": "execute_result"
    }
   ],
   "source": [
    "# Merge Close price and tweet sentiment\n",
    "merged = pd.concat([prices['Close'], daily_tweets['sentiment']], axis=1)\n",
    "\n",
    "# Delete rows containing NaN\n",
    "merged.dropna(inplace=True)\n",
    "merged.head()"
   ]
  },
  {
   "cell_type": "code",
   "execution_count": 11,
   "metadata": {},
   "outputs": [
    {
     "data": {
      "text/plain": [
       "<Figure size 432x288 with 0 Axes>"
      ]
     },
     "metadata": {},
     "output_type": "display_data"
    },
    {
     "data": {
      "image/png": "[encoded data removed]",
      "text/plain": [
       "<Figure size 432x288 with 1 Axes>"
      ]
     },
     "metadata": {
      "needs_background": "light"
     },
     "output_type": "display_data"
    }
   ],
   "source": [
    "merged_scaled = s.fit_transform(merged)\n",
    "plt.figure()\n",
    "pd.DataFrame(merged_scaled, columns=merged.columns).plot()\n",
    "plt.show()"
   ]
  },
  {
   "cell_type": "markdown",
   "metadata": {},
   "source": [
    "Tweet sentiment seems to follow the quotation"
   ]
  },
  {
   "cell_type": "markdown",
   "metadata": {},
   "source": [
    "### Model Training"
   ]
  },
  {
   "cell_type": "markdown",
   "metadata": {},
   "source": [
    "**Data Preparation**"
   ]
  },
  {
   "cell_type": "code",
   "execution_count": 12,
   "metadata": {},
   "outputs": [
    {
     "data": {
      "text/html": [
       "<div>\n",
       "<style scoped>\n",
       "    .dataframe tbody tr th:only-of-type {\n",
       "        vertical-align: middle;\n",
       "    }\n",
       "\n",
       "    .dataframe tbody tr th {\n",
       "        vertical-align: top;\n",
       "    }\n",
       "\n",
       "    .dataframe thead th {\n",
       "        text-align: right;\n",
       "    }\n",
       "</style>\n",
       "<table border=\"1\" class=\"dataframe\">\n",
       "  <thead>\n",
       "    <tr style=\"text-align: right;\">\n",
       "      <th></th>\n",
       "      <th>Close</th>\n",
       "      <th>sentiment</th>\n",
       "      <th>yesterday_sentiment</th>\n",
       "    </tr>\n",
       "    <tr>\n",
       "      <th>Date</th>\n",
       "      <th></th>\n",
       "      <th></th>\n",
       "      <th></th>\n",
       "    </tr>\n",
       "  </thead>\n",
       "  <tbody>\n",
       "    <tr>\n",
       "      <th>2015-05-04</th>\n",
       "      <td>128.699997</td>\n",
       "      <td>0.084062</td>\n",
       "      <td>NaN</td>\n",
       "    </tr>\n",
       "    <tr>\n",
       "      <th>2015-05-05</th>\n",
       "      <td>125.800003</td>\n",
       "      <td>0.063895</td>\n",
       "      <td>0.084062</td>\n",
       "    </tr>\n",
       "    <tr>\n",
       "      <th>2015-05-06</th>\n",
       "      <td>125.010002</td>\n",
       "      <td>0.067004</td>\n",
       "      <td>0.063895</td>\n",
       "    </tr>\n",
       "    <tr>\n",
       "      <th>2015-05-07</th>\n",
       "      <td>125.260002</td>\n",
       "      <td>0.078972</td>\n",
       "      <td>0.067004</td>\n",
       "    </tr>\n",
       "    <tr>\n",
       "      <th>2015-05-08</th>\n",
       "      <td>127.620003</td>\n",
       "      <td>0.102869</td>\n",
       "      <td>0.078972</td>\n",
       "    </tr>\n",
       "  </tbody>\n",
       "</table>\n",
       "</div>"
      ],
      "text/plain": [
       "                 Close  sentiment  yesterday_sentiment\n",
       "Date                                                  \n",
       "2015-05-04  128.699997   0.084062                  NaN\n",
       "2015-05-05  125.800003   0.063895             0.084062\n",
       "2015-05-06  125.010002   0.067004             0.063895\n",
       "2015-05-07  125.260002   0.078972             0.067004\n",
       "2015-05-08  127.620003   0.102869             0.078972"
      ]
     },
     "execution_count": 12,
     "metadata": {},
     "output_type": "execute_result"
    }
   ],
   "source": [
    "# Shift sentiment one row since close price of today is given by yesterday sentiment\n",
    "merged['yesterday_sentiment'] = merged['sentiment'].shift(1)\n",
    "merged.head()"
   ]
  },
  {
   "cell_type": "markdown",
   "metadata": {},
   "source": [
    "### Regression Path\n",
    "**Linear Regression**"
   ]
  },
  {
   "cell_type": "code",
   "execution_count": 15,
   "metadata": {},
   "outputs": [
    {
     "data": {
      "text/html": [
       "<div>\n",
       "<style scoped>\n",
       "    .dataframe tbody tr th:only-of-type {\n",
       "        vertical-align: middle;\n",
       "    }\n",
       "\n",
       "    .dataframe tbody tr th {\n",
       "        vertical-align: top;\n",
       "    }\n",
       "\n",
       "    .dataframe thead th {\n",
       "        text-align: right;\n",
       "    }\n",
       "</style>\n",
       "<table border=\"1\" class=\"dataframe\">\n",
       "  <thead>\n",
       "    <tr style=\"text-align: right;\">\n",
       "      <th></th>\n",
       "      <th>yesterday_sentiment</th>\n",
       "      <th>Close</th>\n",
       "    </tr>\n",
       "    <tr>\n",
       "      <th>Date</th>\n",
       "      <th></th>\n",
       "      <th></th>\n",
       "    </tr>\n",
       "  </thead>\n",
       "  <tbody>\n",
       "    <tr>\n",
       "      <th>2015-05-05</th>\n",
       "      <td>0.084062</td>\n",
       "      <td>125.800003</td>\n",
       "    </tr>\n",
       "    <tr>\n",
       "      <th>2015-05-06</th>\n",
       "      <td>0.063895</td>\n",
       "      <td>125.010002</td>\n",
       "    </tr>\n",
       "    <tr>\n",
       "      <th>2015-05-07</th>\n",
       "      <td>0.067004</td>\n",
       "      <td>125.260002</td>\n",
       "    </tr>\n",
       "    <tr>\n",
       "      <th>2015-05-08</th>\n",
       "      <td>0.078972</td>\n",
       "      <td>127.620003</td>\n",
       "    </tr>\n",
       "    <tr>\n",
       "      <th>2015-05-11</th>\n",
       "      <td>0.102869</td>\n",
       "      <td>126.320000</td>\n",
       "    </tr>\n",
       "  </tbody>\n",
       "</table>\n",
       "</div>"
      ],
      "text/plain": [
       "            yesterday_sentiment       Close\n",
       "Date                                       \n",
       "2015-05-05             0.084062  125.800003\n",
       "2015-05-06             0.063895  125.010002\n",
       "2015-05-07             0.067004  125.260002\n",
       "2015-05-08             0.078972  127.620003\n",
       "2015-05-11             0.102869  126.320000"
      ]
     },
     "execution_count": 15,
     "metadata": {},
     "output_type": "execute_result"
    }
   ],
   "source": [
    "regression_df = merged[['yesterday_sentiment', 'Close']].copy()\n",
    "regression_df.dropna(inplace=True)\n",
    "regression_df.head()"
   ]
  },
  {
   "cell_type": "code",
   "execution_count": 16,
   "metadata": {},
   "outputs": [
    {
     "name": "stderr",
     "output_type": "stream",
     "text": [
      "c:\\users\\admin\\appdata\\local\\programs\\python\\python36\\lib\\site-packages\\sklearn\\ensemble\\weight_boosting.py:29: DeprecationWarning: numpy.core.umath_tests is an internal NumPy module and should not be imported. It will be removed in a future NumPy release.\n",
      "  from numpy.core.umath_tests import inner1d\n"
     ]
    }
   ],
   "source": [
    "from sklearn.linear_model import LinearRegression\n",
    "from sklearn.ensemble import RandomForestRegressor\n",
    "from sklearn.model_selection import cross_val_score\n",
    "import numpy as np"
   ]
  },
  {
   "cell_type": "code",
   "execution_count": 17,
   "metadata": {},
   "outputs": [
    {
     "data": {
      "text/plain": [
       "3.506071915707933"
      ]
     },
     "execution_count": 17,
     "metadata": {},
     "output_type": "execute_result"
    }
   ],
   "source": [
    "linreg = LinearRegression()\n",
    "rmse_cv = np.sqrt(abs(cross_val_score(linreg, regression_df[['yesterday_sentiment']], regression_df['Close'],\n",
    "                   cv=3, scoring='neg_mean_squared_error').mean()))\n",
    "rmse_cv"
   ]
  },
  {
   "cell_type": "markdown",
   "metadata": {},
   "source": [
    "**Random Forest Regression**"
   ]
  },
  {
   "cell_type": "code",
   "execution_count": 19,
   "metadata": {},
   "outputs": [],
   "source": [
    "rf = RandomForestRegressor()"
   ]
  },
  {
   "cell_type": "code",
   "execution_count": 20,
   "metadata": {},
   "outputs": [
    {
     "data": {
      "text/plain": [
       "3.5596594703900144"
      ]
     },
     "execution_count": 20,
     "metadata": {},
     "output_type": "execute_result"
    }
   ],
   "source": [
    "rmse_cv = np.sqrt(abs(cross_val_score(rf, regression_df[['yesterday_sentiment']], regression_df['Close'],\n",
    "               cv=3, scoring='neg_mean_squared_error').mean()))\n",
    "rmse_cv"
   ]
  },
  {
   "cell_type": "code",
   "execution_count": 21,
   "metadata": {},
   "outputs": [
    {
     "data": {
      "text/plain": [
       "count     14.000000\n",
       "mean     128.132858\n",
       "std        2.471810\n",
       "min      125.010002\n",
       "25%      125.905003\n",
       "50%      128.195003\n",
       "75%      130.067505\n",
       "max      132.539993\n",
       "Name: Close, dtype: float64"
      ]
     },
     "execution_count": 21,
     "metadata": {},
     "output_type": "execute_result"
    }
   ],
   "source": [
    "# Std of Close price is lower than models rmse: it's not a good result! \n",
    "regression_df['Close'].describe()"
   ]
  },
  {
   "cell_type": "markdown",
   "metadata": {},
   "source": [
    "**Null Model**"
   ]
  },
  {
   "cell_type": "markdown",
   "metadata": {},
   "source": [
    "It is a model which predicts always the mean value"
   ]
  },
  {
   "cell_type": "code",
   "execution_count": 22,
   "metadata": {},
   "outputs": [
    {
     "data": {
      "text/plain": [
       "[128.1328582142857,\n",
       " 128.1328582142857,\n",
       " 128.1328582142857,\n",
       " 128.1328582142857,\n",
       " 128.1328582142857,\n",
       " 128.1328582142857,\n",
       " 128.1328582142857,\n",
       " 128.1328582142857,\n",
       " 128.1328582142857,\n",
       " 128.1328582142857,\n",
       " 128.1328582142857,\n",
       " 128.1328582142857,\n",
       " 128.1328582142857,\n",
       " 128.1328582142857]"
      ]
     },
     "execution_count": 22,
     "metadata": {},
     "output_type": "execute_result"
    }
   ],
   "source": [
    "mean_close = regression_df['Close'].mean()\n",
    "preds = [mean_close]*regression_df.shape[0]\n",
    "preds"
   ]
  },
  {
   "cell_type": "code",
   "execution_count": 23,
   "metadata": {},
   "outputs": [
    {
     "data": {
      "text/plain": [
       "2.3818957367238593"
      ]
     },
     "execution_count": 23,
     "metadata": {},
     "output_type": "execute_result"
    }
   ],
   "source": [
    "from sklearn.metrics import mean_squared_error\n",
    "null_rmse = np.sqrt(mean_squared_error(preds, regression_df['Close']))\n",
    "null_rmse"
   ]
  },
  {
   "cell_type": "markdown",
   "metadata": {},
   "source": [
    "Our regression models perform worse than the null model... the regression is not the best option."
   ]
  },
  {
   "cell_type": "markdown",
   "metadata": {},
   "source": [
    "### Classification Path"
   ]
  },
  {
   "cell_type": "code",
   "execution_count": 24,
   "metadata": {},
   "outputs": [
    {
     "name": "stderr",
     "output_type": "stream",
     "text": [
      "c:\\users\\admin\\appdata\\local\\programs\\python\\python36\\lib\\site-packages\\sklearn\\cross_validation.py:41: DeprecationWarning: This module was deprecated in version 0.18 in favor of the model_selection module into which all the refactored classes and functions are moved. Also note that the interface of the new CV iterators are different from that of this module. This module will be removed in 0.20.\n",
      "  \"This module will be removed in 0.20.\", DeprecationWarning)\n"
     ]
    }
   ],
   "source": [
    "from sklearn.linear_model import LogisticRegression\n",
    "from sklearn.ensemble import RandomForestClassifier\n",
    "from sklearn.cross_validation import cross_val_score"
   ]
  },
  {
   "cell_type": "code",
   "execution_count": 27,
   "metadata": {},
   "outputs": [
    {
     "data": {
      "text/html": [
       "<div>\n",
       "<style scoped>\n",
       "    .dataframe tbody tr th:only-of-type {\n",
       "        vertical-align: middle;\n",
       "    }\n",
       "\n",
       "    .dataframe tbody tr th {\n",
       "        vertical-align: top;\n",
       "    }\n",
       "\n",
       "    .dataframe thead th {\n",
       "        text-align: right;\n",
       "    }\n",
       "</style>\n",
       "<table border=\"1\" class=\"dataframe\">\n",
       "  <thead>\n",
       "    <tr style=\"text-align: right;\">\n",
       "      <th></th>\n",
       "      <th>yesterday_sentiment</th>\n",
       "      <th>Close</th>\n",
       "      <th>yesterday_close</th>\n",
       "    </tr>\n",
       "    <tr>\n",
       "      <th>Date</th>\n",
       "      <th></th>\n",
       "      <th></th>\n",
       "      <th></th>\n",
       "    </tr>\n",
       "  </thead>\n",
       "  <tbody>\n",
       "    <tr>\n",
       "      <th>2015-05-05</th>\n",
       "      <td>0.084062</td>\n",
       "      <td>125.800003</td>\n",
       "      <td>128.699997</td>\n",
       "    </tr>\n",
       "    <tr>\n",
       "      <th>2015-05-06</th>\n",
       "      <td>0.063895</td>\n",
       "      <td>125.010002</td>\n",
       "      <td>125.800003</td>\n",
       "    </tr>\n",
       "    <tr>\n",
       "      <th>2015-05-07</th>\n",
       "      <td>0.067004</td>\n",
       "      <td>125.260002</td>\n",
       "      <td>125.010002</td>\n",
       "    </tr>\n",
       "    <tr>\n",
       "      <th>2015-05-08</th>\n",
       "      <td>0.078972</td>\n",
       "      <td>127.620003</td>\n",
       "      <td>125.260002</td>\n",
       "    </tr>\n",
       "    <tr>\n",
       "      <th>2015-05-11</th>\n",
       "      <td>0.102869</td>\n",
       "      <td>126.320000</td>\n",
       "      <td>127.620003</td>\n",
       "    </tr>\n",
       "  </tbody>\n",
       "</table>\n",
       "</div>"
      ],
      "text/plain": [
       "            yesterday_sentiment       Close  yesterday_close\n",
       "Date                                                        \n",
       "2015-05-05             0.084062  125.800003       128.699997\n",
       "2015-05-06             0.063895  125.010002       125.800003\n",
       "2015-05-07             0.067004  125.260002       125.010002\n",
       "2015-05-08             0.078972  127.620003       125.260002\n",
       "2015-05-11             0.102869  126.320000       127.620003"
      ]
     },
     "execution_count": 27,
     "metadata": {},
     "output_type": "execute_result"
    }
   ],
   "source": [
    "classification_df = merged[['yesterday_sentiment', 'Close']].copy()\n",
    "classification_df['yesterday_close'] = classification_df['Close'].shift(1)\n",
    "classification_df.dropna(inplace=True)\n",
    "classification_df.head()"
   ]
  },
  {
   "cell_type": "code",
   "execution_count": 28,
   "metadata": {},
   "outputs": [
    {
     "data": {
      "text/html": [
       "<div>\n",
       "<style scoped>\n",
       "    .dataframe tbody tr th:only-of-type {\n",
       "        vertical-align: middle;\n",
       "    }\n",
       "\n",
       "    .dataframe tbody tr th {\n",
       "        vertical-align: top;\n",
       "    }\n",
       "\n",
       "    .dataframe thead th {\n",
       "        text-align: right;\n",
       "    }\n",
       "</style>\n",
       "<table border=\"1\" class=\"dataframe\">\n",
       "  <thead>\n",
       "    <tr style=\"text-align: right;\">\n",
       "      <th></th>\n",
       "      <th>yesterday_sentiment</th>\n",
       "      <th>Close</th>\n",
       "      <th>yesterday_close</th>\n",
       "      <th>percent_change_in_price</th>\n",
       "    </tr>\n",
       "    <tr>\n",
       "      <th>Date</th>\n",
       "      <th></th>\n",
       "      <th></th>\n",
       "      <th></th>\n",
       "      <th></th>\n",
       "    </tr>\n",
       "  </thead>\n",
       "  <tbody>\n",
       "    <tr>\n",
       "      <th>2015-05-05</th>\n",
       "      <td>0.084062</td>\n",
       "      <td>125.800003</td>\n",
       "      <td>128.699997</td>\n",
       "      <td>-0.022533</td>\n",
       "    </tr>\n",
       "    <tr>\n",
       "      <th>2015-05-06</th>\n",
       "      <td>0.063895</td>\n",
       "      <td>125.010002</td>\n",
       "      <td>125.800003</td>\n",
       "      <td>-0.006280</td>\n",
       "    </tr>\n",
       "    <tr>\n",
       "      <th>2015-05-07</th>\n",
       "      <td>0.067004</td>\n",
       "      <td>125.260002</td>\n",
       "      <td>125.010002</td>\n",
       "      <td>0.002000</td>\n",
       "    </tr>\n",
       "    <tr>\n",
       "      <th>2015-05-08</th>\n",
       "      <td>0.078972</td>\n",
       "      <td>127.620003</td>\n",
       "      <td>125.260002</td>\n",
       "      <td>0.018841</td>\n",
       "    </tr>\n",
       "    <tr>\n",
       "      <th>2015-05-11</th>\n",
       "      <td>0.102869</td>\n",
       "      <td>126.320000</td>\n",
       "      <td>127.620003</td>\n",
       "      <td>-0.010187</td>\n",
       "    </tr>\n",
       "  </tbody>\n",
       "</table>\n",
       "</div>"
      ],
      "text/plain": [
       "            yesterday_sentiment       Close  yesterday_close  \\\n",
       "Date                                                           \n",
       "2015-05-05             0.084062  125.800003       128.699997   \n",
       "2015-05-06             0.063895  125.010002       125.800003   \n",
       "2015-05-07             0.067004  125.260002       125.010002   \n",
       "2015-05-08             0.078972  127.620003       125.260002   \n",
       "2015-05-11             0.102869  126.320000       127.620003   \n",
       "\n",
       "            percent_change_in_price  \n",
       "Date                                 \n",
       "2015-05-05                -0.022533  \n",
       "2015-05-06                -0.006280  \n",
       "2015-05-07                 0.002000  \n",
       "2015-05-08                 0.018841  \n",
       "2015-05-11                -0.010187  "
      ]
     },
     "execution_count": 28,
     "metadata": {},
     "output_type": "execute_result"
    }
   ],
   "source": [
    "# Compute the percentage change with respect yesterday\n",
    "classification_df['percent_change_in_price'] = (classification_df['Close'] - \n",
    "            classification_df['yesterday_close'])/classification_df['yesterday_close']\n",
    "\n",
    "classification_df.head()"
   ]
  },
  {
   "cell_type": "code",
   "execution_count": 29,
   "metadata": {},
   "outputs": [
    {
     "data": {
      "text/html": [
       "<div>\n",
       "<style scoped>\n",
       "    .dataframe tbody tr th:only-of-type {\n",
       "        vertical-align: middle;\n",
       "    }\n",
       "\n",
       "    .dataframe tbody tr th {\n",
       "        vertical-align: top;\n",
       "    }\n",
       "\n",
       "    .dataframe thead th {\n",
       "        text-align: right;\n",
       "    }\n",
       "</style>\n",
       "<table border=\"1\" class=\"dataframe\">\n",
       "  <thead>\n",
       "    <tr style=\"text-align: right;\">\n",
       "      <th></th>\n",
       "      <th>yesterday_sentiment</th>\n",
       "      <th>Close</th>\n",
       "      <th>yesterday_close</th>\n",
       "      <th>percent_change_in_price</th>\n",
       "      <th>change_close_big_deal</th>\n",
       "    </tr>\n",
       "    <tr>\n",
       "      <th>Date</th>\n",
       "      <th></th>\n",
       "      <th></th>\n",
       "      <th></th>\n",
       "      <th></th>\n",
       "      <th></th>\n",
       "    </tr>\n",
       "  </thead>\n",
       "  <tbody>\n",
       "    <tr>\n",
       "      <th>2015-05-05</th>\n",
       "      <td>0.084062</td>\n",
       "      <td>125.800003</td>\n",
       "      <td>128.699997</td>\n",
       "      <td>-0.022533</td>\n",
       "      <td>True</td>\n",
       "    </tr>\n",
       "    <tr>\n",
       "      <th>2015-05-06</th>\n",
       "      <td>0.063895</td>\n",
       "      <td>125.010002</td>\n",
       "      <td>125.800003</td>\n",
       "      <td>-0.006280</td>\n",
       "      <td>False</td>\n",
       "    </tr>\n",
       "    <tr>\n",
       "      <th>2015-05-07</th>\n",
       "      <td>0.067004</td>\n",
       "      <td>125.260002</td>\n",
       "      <td>125.010002</td>\n",
       "      <td>0.002000</td>\n",
       "      <td>False</td>\n",
       "    </tr>\n",
       "    <tr>\n",
       "      <th>2015-05-08</th>\n",
       "      <td>0.078972</td>\n",
       "      <td>127.620003</td>\n",
       "      <td>125.260002</td>\n",
       "      <td>0.018841</td>\n",
       "      <td>True</td>\n",
       "    </tr>\n",
       "    <tr>\n",
       "      <th>2015-05-11</th>\n",
       "      <td>0.102869</td>\n",
       "      <td>126.320000</td>\n",
       "      <td>127.620003</td>\n",
       "      <td>-0.010187</td>\n",
       "      <td>True</td>\n",
       "    </tr>\n",
       "  </tbody>\n",
       "</table>\n",
       "</div>"
      ],
      "text/plain": [
       "            yesterday_sentiment       Close  yesterday_close  \\\n",
       "Date                                                           \n",
       "2015-05-05             0.084062  125.800003       128.699997   \n",
       "2015-05-06             0.063895  125.010002       125.800003   \n",
       "2015-05-07             0.067004  125.260002       125.010002   \n",
       "2015-05-08             0.078972  127.620003       125.260002   \n",
       "2015-05-11             0.102869  126.320000       127.620003   \n",
       "\n",
       "            percent_change_in_price  change_close_big_deal  \n",
       "Date                                                        \n",
       "2015-05-05                -0.022533                   True  \n",
       "2015-05-06                -0.006280                  False  \n",
       "2015-05-07                 0.002000                  False  \n",
       "2015-05-08                 0.018841                   True  \n",
       "2015-05-11                -0.010187                   True  "
      ]
     },
     "execution_count": 29,
     "metadata": {},
     "output_type": "execute_result"
    }
   ],
   "source": [
    "# Create a new feature that is = 1 if change > 1% or < -1%; = 0 otherwise\n",
    "classification_df['change_close_big_deal'] = abs(classification_df['percent_change_in_price']) > 0.01 \n",
    "classification_df.head()"
   ]
  },
  {
   "cell_type": "markdown",
   "metadata": {},
   "source": [
    "**Random Forest Classifier**"
   ]
  },
  {
   "cell_type": "code",
   "execution_count": 30,
   "metadata": {},
   "outputs": [
    {
     "data": {
      "text/plain": [
       "0.2333333333333333"
      ]
     },
     "execution_count": 30,
     "metadata": {},
     "output_type": "execute_result"
    }
   ],
   "source": [
    "rf = RandomForestClassifier()\n",
    "accuracy_cv = cross_val_score(rf, classification_df[['yesterday_sentiment']], \n",
    "                classification_df['change_close_big_deal'], cv=3, scoring='accuracy').mean()\n",
    "accuracy_cv"
   ]
  },
  {
   "cell_type": "markdown",
   "metadata": {},
   "source": [
    "**Logistic Regression**"
   ]
  },
  {
   "cell_type": "code",
   "execution_count": 31,
   "metadata": {},
   "outputs": [
    {
     "data": {
      "text/plain": [
       "0.5666666666666667"
      ]
     },
     "execution_count": 31,
     "metadata": {},
     "output_type": "execute_result"
    }
   ],
   "source": [
    "logreg = LogisticRegression()\n",
    "accuracy_cv = cross_val_score(logreg, classification_df[['yesterday_sentiment']], \n",
    "                classification_df['change_close_big_deal'], cv=3, scoring='accuracy').mean()\n",
    "accuracy_cv"
   ]
  },
  {
   "cell_type": "markdown",
   "metadata": {},
   "source": [
    "**Null Model**"
   ]
  },
  {
   "cell_type": "code",
   "execution_count": 32,
   "metadata": {},
   "outputs": [
    {
     "data": {
      "text/plain": [
       "False    8\n",
       "True     6\n",
       "Name: change_close_big_deal, dtype: int64"
      ]
     },
     "execution_count": 32,
     "metadata": {},
     "output_type": "execute_result"
    }
   ],
   "source": [
    "# Null accuracy: accuracy that could be achieved by always predicting the most frequent class\n",
    "classification_df['change_close_big_deal'].value_counts()"
   ]
  },
  {
   "cell_type": "code",
   "execution_count": 33,
   "metadata": {},
   "outputs": [
    {
     "data": {
      "text/plain": [
       "0.5714285714285714"
      ]
     },
     "execution_count": 33,
     "metadata": {},
     "output_type": "execute_result"
    }
   ],
   "source": [
    "null_accuracy = 1 - classification_df['change_close_big_deal'].mean()\n",
    "null_accuracy"
   ]
  },
  {
   "cell_type": "code",
   "execution_count": 40,
   "metadata": {},
   "outputs": [
    {
     "data": {
      "text/plain": [
       "0.5714285714285714"
      ]
     },
     "execution_count": 40,
     "metadata": {},
     "output_type": "execute_result"
    }
   ],
   "source": [
    "# The accuracy of the Null model can be also calculated in this way:\n",
    "from sklearn.metrics import accuracy_score\n",
    "accuracy_score(classification_df['change_close_big_deal'].values, len(classification_df['change_close_big_deal'])*[False])"
   ]
  },
  {
   "cell_type": "markdown",
   "metadata": {},
   "source": [
    "A dumb model that always predicts 0 would be right 57% of the time and has performance comparable to the Logistic Regression model"
   ]
  },
  {
   "cell_type": "code",
   "execution_count": null,
   "metadata": {},
   "outputs": [],
   "source": []
  }
 ],
 "metadata": {
  "kernelspec": {
   "display_name": "Python 3",
   "language": "python",
   "name": "python3"
  },
  "language_info": {
   "codemirror_mode": {
    "name": "ipython",
    "version": 3
   },
   "file_extension": ".py",
   "mimetype": "text/x-python",
   "name": "python",
   "nbconvert_exporter": "python",
   "pygments_lexer": "ipython3",
   "version": "3.6.2"
  }
 },
 "nbformat": 4,
 "nbformat_minor": 2
}
